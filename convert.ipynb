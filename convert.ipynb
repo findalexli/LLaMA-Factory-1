{
 "cells": [
  {
   "cell_type": "code",
   "execution_count": 2,
   "metadata": {},
   "outputs": [],
   "source": [
    "import datasets\n",
    "import pandas as pd\n",
    "\n",
    "dataset = datasets.load_dataset(\"alexshengzhili/0607_output_processed_final_preference_dataset\")['train']\n",
    "df = dataset.to_pandas()"
   ]
  },
  {
   "cell_type": "code",
   "execution_count": 4,
   "metadata": {},
   "outputs": [
    {
     "data": {
      "application/vnd.jupyter.widget-view+json": {
       "model_id": "c9a64e79c3d64b77be4bb92ffb09b7e5",
       "version_major": 2,
       "version_minor": 0
      },
      "text/plain": [
       "Uploading the dataset shards:   0%|          | 0/1 [00:00<?, ?it/s]"
      ]
     },
     "metadata": {},
     "output_type": "display_data"
    },
    {
     "data": {
      "application/vnd.jupyter.widget-view+json": {
       "model_id": "6deb876fdda14c0e82a159423aad1f5c",
       "version_major": 2,
       "version_minor": 0
      },
      "text/plain": [
       "Creating parquet from Arrow format:   0%|          | 0/3 [00:00<?, ?ba/s]"
      ]
     },
     "metadata": {},
     "output_type": "display_data"
    },
    {
     "data": {
      "text/plain": [
       "CommitInfo(commit_url='https://huggingface.co/datasets/alexshengzhili/0607_output_processed_sft_on_aggregated/commit/ec8d68818f17dd7c1ff83d07f4d4c817b5825efb', commit_message='Upload dataset', commit_description='', oid='ec8d68818f17dd7c1ff83d07f4d4c817b5825efb', pr_url=None, pr_revision=None, pr_num=None)"
      ]
     },
     "execution_count": 4,
     "metadata": {},
     "output_type": "execute_result"
    }
   ],
   "source": [
    "df.rename(columns={'chosen': 'output'}, inplace=True)\n",
    "dataset_renamed = datasets.Dataset.from_pandas(df)\n",
    "dataset_renamed.push_to_hub(\"alexshengzhili/0607_output_processed_sft_on_aggregated\")"
   ]
  }
 ],
 "metadata": {
  "kernelspec": {
   "display_name": "paperlength",
   "language": "python",
   "name": "python3"
  },
  "language_info": {
   "codemirror_mode": {
    "name": "ipython",
    "version": 3
   },
   "file_extension": ".py",
   "mimetype": "text/x-python",
   "name": "python",
   "nbconvert_exporter": "python",
   "pygments_lexer": "ipython3",
   "version": "3.1.undefined"
  }
 },
 "nbformat": 4,
 "nbformat_minor": 2
}
